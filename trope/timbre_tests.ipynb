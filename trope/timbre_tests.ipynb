{
 "cells": [
  {
   "cell_type": "code",
   "execution_count": 1,
   "id": "a65d0795-962f-40cd-89fd-76983a701b05",
   "metadata": {},
   "outputs": [],
   "source": [
    "import numpy as np\n",
    "\n",
    "from synthesizing import Synthesis"
   ]
  },
  {
   "cell_type": "code",
   "execution_count": 2,
   "id": "f6c4c868-08a5-4cf6-9b15-8d1c53540f58",
   "metadata": {},
   "outputs": [],
   "source": [
    "refrain =  np.array([\n",
    "        [220, 200, 100, 200, 250],\n",
    "        [  0, 300, 150, 400, 500],\n",
    "        [  0, 600, 250, 600, 600]\n",
    "    ])\n",
    "\n",
    "durations = [0.5, 0.5, 0.5, 0.5]\n",
    "sample_rate = 22050"
   ]
  },
  {
   "cell_type": "code",
   "execution_count": 10,
   "id": "7e51f11c-7896-4888-b3b3-8b1d26848591",
   "metadata": {},
   "outputs": [
    {
     "data": {
      "text/plain": [
       "0.8"
      ]
     },
     "execution_count": 10,
     "metadata": {},
     "output_type": "execute_result"
    }
   ],
   "source": [
    "timbre = ((1, 0.8), (2, 0.5), (4, 0.25), (8, 0.1))\n",
    "timbre[0][1]"
   ]
  },
  {
   "cell_type": "code",
   "execution_count": 4,
   "id": "a2f05329-041b-4663-9f22-9b2c55e2a4c8",
   "metadata": {},
   "outputs": [
    {
     "name": "stdout",
     "output_type": "stream",
     "text": [
      "0\n",
      "0\n",
      "0\n",
      "0\n",
      "0\n",
      "0\n",
      "0\n",
      "0\n",
      "0\n",
      "0\n",
      "0\n",
      "0\n",
      "0\n",
      "0\n",
      "0\n",
      "0\n",
      "0\n",
      "0\n",
      "0\n",
      "0\n",
      "1\n",
      "1\n",
      "1\n",
      "1\n",
      "1\n",
      "1\n",
      "1\n",
      "1\n",
      "1\n",
      "1\n",
      "1\n",
      "1\n",
      "1\n",
      "1\n",
      "1\n",
      "1\n",
      "1\n",
      "1\n",
      "1\n",
      "1\n",
      "2\n",
      "2\n",
      "2\n",
      "2\n",
      "2\n",
      "2\n",
      "2\n",
      "2\n",
      "2\n",
      "2\n",
      "2\n",
      "2\n",
      "2\n",
      "2\n",
      "2\n",
      "2\n",
      "2\n",
      "2\n",
      "2\n",
      "2\n"
     ]
    }
   ],
   "source": [
    "S = Synthesis(\n",
    "    refrain,\n",
    "    durations,\n",
    "    sample_rate,\n",
    "    timbre=timbre\n",
    ")"
   ]
  },
  {
   "cell_type": "code",
   "execution_count": 5,
   "id": "be601f5e-34bc-42a8-81c3-bce52e3e0a5b",
   "metadata": {},
   "outputs": [
    {
     "name": "stdout",
     "output_type": "stream",
     "text": [
      "1 0.8\n",
      "2 0.5\n",
      "4 0.25\n",
      "8 0.1\n"
     ]
    }
   ],
   "source": [
    "for factor,amplitude in timbre:\n",
    "    print(factor, amplitude)"
   ]
  },
  {
   "cell_type": "code",
   "execution_count": 6,
   "id": "3362b884-91c7-4a13-9786-cb137f926da5",
   "metadata": {},
   "outputs": [
    {
     "name": "stdout",
     "output_type": "stream",
     "text": [
      "[[ 440  400  200  400  500]\n",
      " [   0  600  300  800 1000]\n",
      " [   0 1200  500 1200 1200]]\n",
      "[[ 880  800  400  800 1000]\n",
      " [   0 1200  600 1600 2000]\n",
      " [   0 2400 1000 2400 2400]\n",
      " [1760 1600  800 1600 2000]\n",
      " [   0 2400 1200 3200 4000]\n",
      " [   0 4800 2000 4800 4800]]\n",
      "[[ 1760  1600   800  1600  2000]\n",
      " [    0  2400  1200  3200  4000]\n",
      " [    0  4800  2000  4800  4800]\n",
      " [ 3520  3200  1600  3200  4000]\n",
      " [    0  4800  2400  6400  8000]\n",
      " [    0  9600  4000  9600  9600]\n",
      " [ 7040  6400  3200  6400  8000]\n",
      " [    0  9600  4800 12800 16000]\n",
      " [    0 19200  8000 19200 19200]\n",
      " [14080 12800  6400 12800 16000]\n",
      " [    0 19200  9600 25600 32000]\n",
      " [    0 38400 16000 38400 38400]]\n"
     ]
    }
   ],
   "source": [
    "for i,(factor,amplitude) in enumerate(timbre):\n",
    "    if i > 0 :\n",
    "        print(refrain*factor)\n",
    "        refrain = np.concatenate((refrain, refrain*factor))"
   ]
  },
  {
   "cell_type": "code",
   "execution_count": 7,
   "id": "0c9c6332-5796-4243-86fa-b3ec7cf37e2d",
   "metadata": {},
   "outputs": [
    {
     "data": {
      "text/plain": [
       "array([[  220,   200,   100,   200,   250],\n",
       "       [    0,   300,   150,   400,   500],\n",
       "       [    0,   600,   250,   600,   600],\n",
       "       [  440,   400,   200,   400,   500],\n",
       "       [    0,   600,   300,   800,  1000],\n",
       "       [    0,  1200,   500,  1200,  1200],\n",
       "       [  880,   800,   400,   800,  1000],\n",
       "       [    0,  1200,   600,  1600,  2000],\n",
       "       [    0,  2400,  1000,  2400,  2400],\n",
       "       [ 1760,  1600,   800,  1600,  2000],\n",
       "       [    0,  2400,  1200,  3200,  4000],\n",
       "       [    0,  4800,  2000,  4800,  4800],\n",
       "       [ 1760,  1600,   800,  1600,  2000],\n",
       "       [    0,  2400,  1200,  3200,  4000],\n",
       "       [    0,  4800,  2000,  4800,  4800],\n",
       "       [ 3520,  3200,  1600,  3200,  4000],\n",
       "       [    0,  4800,  2400,  6400,  8000],\n",
       "       [    0,  9600,  4000,  9600,  9600],\n",
       "       [ 7040,  6400,  3200,  6400,  8000],\n",
       "       [    0,  9600,  4800, 12800, 16000],\n",
       "       [    0, 19200,  8000, 19200, 19200],\n",
       "       [14080, 12800,  6400, 12800, 16000],\n",
       "       [    0, 19200,  9600, 25600, 32000],\n",
       "       [    0, 38400, 16000, 38400, 38400]])"
      ]
     },
     "execution_count": 7,
     "metadata": {},
     "output_type": "execute_result"
    }
   ],
   "source": [
    "refrain"
   ]
  },
  {
   "cell_type": "code",
   "execution_count": null,
   "id": "a1e9932d-c3f0-4a63-a204-fa6af5a13da8",
   "metadata": {},
   "outputs": [],
   "source": []
  }
 ],
 "metadata": {
  "kernelspec": {
   "display_name": "Python 3 (ipykernel)",
   "language": "python",
   "name": "python3"
  },
  "language_info": {
   "codemirror_mode": {
    "name": "ipython",
    "version": 3
   },
   "file_extension": ".py",
   "mimetype": "text/x-python",
   "name": "python",
   "nbconvert_exporter": "python",
   "pygments_lexer": "ipython3",
   "version": "3.9.7"
  }
 },
 "nbformat": 4,
 "nbformat_minor": 5
}
