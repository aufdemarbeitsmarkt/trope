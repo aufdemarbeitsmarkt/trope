{
 "cells": [
  {
   "cell_type": "code",
   "execution_count": 1,
   "id": "a4cd5a9a-3772-49c6-81e9-5f7d77a4e8c9",
   "metadata": {},
   "outputs": [],
   "source": [
    "import numpy as np\n",
    "\n",
    "from synthesizing import Synthesis\n",
    "from scales_and_tunings import convert_hz_to_note"
   ]
  },
  {
   "cell_type": "code",
   "execution_count": 5,
   "id": "6465e888-816c-455e-a758-50784ef357a6",
   "metadata": {},
   "outputs": [],
   "source": [
    "refrain = [\n",
    "    ['A4, B1, C#4, A4, A5'],\n",
    "    ['D3, G3, E3, E3, G3']\n",
    "]\n",
    "\n",
    "# refrain = [\n",
    "#     [440, 220, 100, 130, 180],\n",
    "#     [200, 100, 80, 100, 80]\n",
    "# ]\n",
    "\n",
    "durations = [0.5]\n",
    "sample_rate = 22050"
   ]
  },
  {
   "cell_type": "code",
   "execution_count": 6,
   "id": "fa4c9e37-6cdf-419b-9f31-86fd7bc6a2bc",
   "metadata": {},
   "outputs": [
    {
     "name": "stdout",
     "output_type": "stream",
     "text": [
      "yo!!!!\n",
      "i=(0, 0)\n",
      "r=440.0\n",
      "self.durations_in_samples[i]=11025.0\n",
      "self.max_durations_samples=array([11025, 11073, 11058, 11025, 11026])\n",
      "11025\n",
      "i=(0, 1)\n",
      "r=61.7354126570155\n",
      "self.durations_in_samples[i]=11073.0\n",
      "self.max_durations_samples=array([11025, 11073, 11058, 11025, 11026])\n",
      "11073\n",
      "i=(0, 2)\n",
      "r=277.1826309768721\n",
      "self.durations_in_samples[i]=11058.0\n",
      "self.max_durations_samples=array([11025, 11073, 11058, 11025, 11026])\n",
      "11058\n",
      "i=(0, 3)\n",
      "r=440.0\n",
      "self.durations_in_samples[i]=11025.0\n",
      "self.max_durations_samples=array([11025, 11073, 11058, 11025, 11026])\n",
      "11025\n",
      "i=(0, 4)\n",
      "r=880.0\n",
      "self.durations_in_samples[i]=11025.0\n",
      "self.max_durations_samples=array([11025, 11073, 11058, 11025, 11026])\n",
      "11026\n",
      "i=(1, 0)\n",
      "r=146.8323839587038\n",
      "self.durations_in_samples[i]=10963.0\n",
      "self.max_durations_samples=array([11025, 11073, 11058, 11025, 11026])\n",
      "11025\n",
      "i=(1, 1)\n",
      "r=195.99771799087463\n",
      "self.durations_in_samples[i]=11026.0\n",
      "self.max_durations_samples=array([11025, 11073, 11058, 11025, 11026])\n",
      "11073\n",
      "i=(1, 2)\n",
      "r=164.81377845643496\n",
      "self.durations_in_samples[i]=10971.0\n",
      "self.max_durations_samples=array([11025, 11073, 11058, 11025, 11026])\n",
      "11058\n",
      "i=(1, 3)\n",
      "r=164.81377845643496\n",
      "self.durations_in_samples[i]=10971.0\n",
      "self.max_durations_samples=array([11025, 11073, 11058, 11025, 11026])\n",
      "11025\n",
      "i=(1, 4)\n",
      "r=195.99771799087463\n",
      "self.durations_in_samples[i]=11026.0\n",
      "self.max_durations_samples=array([11025, 11073, 11058, 11025, 11026])\n",
      "11026\n"
     ]
    }
   ],
   "source": [
    "S = Synthesis(\n",
    "    refrain,\n",
    "    durations,\n",
    "    sample_rate\n",
    ")"
   ]
  },
  {
   "cell_type": "code",
   "execution_count": null,
   "id": "6985ff79-568c-4fe0-9bf2-1f768723b2ae",
   "metadata": {},
   "outputs": [],
   "source": []
  }
 ],
 "metadata": {
  "kernelspec": {
   "display_name": "Python 3 (ipykernel)",
   "language": "python",
   "name": "python3"
  },
  "language_info": {
   "codemirror_mode": {
    "name": "ipython",
    "version": 3
   },
   "file_extension": ".py",
   "mimetype": "text/x-python",
   "name": "python",
   "nbconvert_exporter": "python",
   "pygments_lexer": "ipython3",
   "version": "3.9.7"
  }
 },
 "nbformat": 4,
 "nbformat_minor": 5
}
