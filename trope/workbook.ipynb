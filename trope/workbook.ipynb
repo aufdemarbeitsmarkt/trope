{
 "cells": [
  {
   "cell_type": "code",
   "execution_count": 9,
   "id": "9e37d837-b9b5-493d-8bea-14c1c015dabd",
   "metadata": {},
   "outputs": [],
   "source": [
    "import numpy as np \n",
    "\n",
    "from performing import Performer, Performance"
   ]
  },
  {
   "cell_type": "code",
   "execution_count": null,
   "id": "3e3c61de-8634-482c-bc01-9b207763905d",
   "metadata": {},
   "outputs": [],
   "source": [
    "from librosa import note_to_hz\n",
    "riff = note_to_hz(['A3', 'C#3', 'C#4', 'E4', 'D4', 'E4', 'A3', 'C#4'])\n",
    "\n",
    "p1 = Performer(\n",
    "    riff,\n",
    "    durations=np.tile([0.5, 0.5], 4)\n",
    ")"
   ]
  },
  {
   "cell_type": "code",
   "execution_count": 18,
   "id": "b2366b85-1534-40a8-9a93-e7b51b104ebb",
   "metadata": {},
   "outputs": [
    {
     "data": {
      "text/plain": [
       "([11000, 10971, 11060, 11022, 11025, 11022, 11000, 11060], 88160)"
      ]
     },
     "execution_count": 18,
     "metadata": {},
     "output_type": "execute_result"
    }
   ],
   "source": [
    "list_of_sample_durs = [11000,10971,11060,11022,11025,11022,11000,11060]\n",
    "total_sample_dur = sum(list_of_sample_durs)\n",
    "\n",
    "list_of_sample_durs, total_sample_dur"
   ]
  },
  {
   "cell_type": "code",
   "execution_count": 31,
   "id": "8ae1288a-95c8-4079-b2fe-2f06d1639564",
   "metadata": {},
   "outputs": [
    {
     "data": {
      "text/plain": [
       "['1.13ms',\n",
       " '2.45ms',\n",
       " '-1.59ms',\n",
       " '0.14ms',\n",
       " '0.00ms',\n",
       " '0.14ms',\n",
       " '1.13ms',\n",
       " '-1.59ms']"
      ]
     },
     "execution_count": 31,
     "metadata": {},
     "output_type": "execute_result"
    }
   ],
   "source": [
    "# take a look at the difference in ms \n",
    "[f'{(0.5 - (n / 22050)) * 1000:.2f}ms' for n in list_of_sample_durs]"
   ]
  },
  {
   "cell_type": "code",
   "execution_count": 33,
   "id": "3fb644dd-954a-4ea4-a7c1-ba25a2f27feb",
   "metadata": {},
   "outputs": [
    {
     "data": {
      "text/plain": [
       "1.000453720508167"
      ]
     },
     "execution_count": 33,
     "metadata": {},
     "output_type": "execute_result"
    }
   ],
   "source": [
    "((22050 * 0.5) * len(list_of_sample_durs) / total_sample_dur) "
   ]
  },
  {
   "cell_type": "code",
   "execution_count": null,
   "id": "d342757c-7f29-451d-9b8c-0a16e722d1dd",
   "metadata": {},
   "outputs": [],
   "source": []
  }
 ],
 "metadata": {
  "kernelspec": {
   "display_name": "Python 3 (ipykernel)",
   "language": "python",
   "name": "python3"
  },
  "language_info": {
   "codemirror_mode": {
    "name": "ipython",
    "version": 3
   },
   "file_extension": ".py",
   "mimetype": "text/x-python",
   "name": "python",
   "nbconvert_exporter": "python",
   "pygments_lexer": "ipython3",
   "version": "3.9.7"
  }
 },
 "nbformat": 4,
 "nbformat_minor": 5
}
