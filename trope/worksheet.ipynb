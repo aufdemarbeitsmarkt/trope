{
 "cells": [
  {
   "cell_type": "code",
   "execution_count": 2,
   "id": "e2cbdccd-642f-46ff-a9be-e2cd232daae9",
   "metadata": {},
   "outputs": [],
   "source": [
    "from math import ceil\n",
    "import matplotlib.pyplot as plt\n",
    "import numpy as np\n",
    "from scipy.io.wavfile import write\n",
    "from synthesizing_new import Tone, Synthesis"
   ]
  },
  {
   "cell_type": "code",
   "execution_count": 3,
   "id": "e8587da9-c695-487c-ae59-169fb438529f",
   "metadata": {},
   "outputs": [
    {
     "data": {
      "text/plain": [
       "(3, 4)"
      ]
     },
     "execution_count": 3,
     "metadata": {},
     "output_type": "execute_result"
    }
   ],
   "source": [
    "refrain =  np.matrix([\n",
    "        [220, 200.2, 100.2, 200],\n",
    "        [  0, 300.2,   150, 400],\n",
    "        [  0, 600.3,   250, 600]\n",
    "    ])\n",
    "durations = [0.5, 0.5, 0.5, 0.5]\n",
    "sample_rate = 22050\n",
    "refrain.shape"
   ]
  },
  {
   "cell_type": "code",
   "execution_count": 4,
   "id": "855acfda-a807-4e45-a9ec-9a8f40053934",
   "metadata": {},
   "outputs": [],
   "source": [
    "S = Synthesis(refrain, durations, sample_rate)"
   ]
  },
  {
   "cell_type": "code",
   "execution_count": 5,
   "id": "fcbd7be9-7f8f-453d-940d-55cb3401bd63",
   "metadata": {},
   "outputs": [],
   "source": [
    "durations_in_samples = S.durations_in_samples\n",
    "max_durations_in_samples = S.max_durations_samples\n",
    "frequencies = S.refrain\n",
    "total_duration_in_samples = S.total_duration_in_samples"
   ]
  },
  {
   "cell_type": "code",
   "execution_count": 6,
   "id": "b53c2869-a6fd-4657-b4d3-1d905ae11ec9",
   "metadata": {},
   "outputs": [],
   "source": [
    "def generate_tone(frequency, duration_in_samples, amplitude=0.5, pad_amount=0):\n",
    "    each_sample = np.arange(duration_in_samples)\n",
    "    \n",
    "    sine = np.sin(2 * np.pi * each_sample * frequency / sample_rate) * amplitude\n",
    "   \n",
    "    if pad_amount - duration_in_samples > 0:\n",
    "        pad_for_each_side = (pad_amount - duration_in_samples) / 2\n",
    "        beginning = int(pad_for_each_side)\n",
    "        end = ceil(pad_for_each_side)\n",
    "        return np.pad(sine, (beginning, end)) # note: this will also work for rests\n",
    "    \n",
    "    return sine"
   ]
  },
  {
   "cell_type": "code",
   "execution_count": 17,
   "id": "2338f5dc-aceb-499f-996a-97146be86448",
   "metadata": {},
   "outputs": [
    {
     "data": {
      "text/plain": [
       "array([    0, 11025, 22045, 33070])"
      ]
     },
     "execution_count": 17,
     "metadata": {},
     "output_type": "execute_result"
    }
   ],
   "source": [
    "# add these to synthesizing_new\n",
    "cumsum_max_durations = np.ravel(np.cumsum(max_durations_in_samples))\n",
    "sample_boundaries = np.insert(cumsum_max_durations[:-1], 0, 0)"
   ]
  },
  {
   "cell_type": "code",
   "execution_count": 7,
   "id": "3901f032-5362-410f-875a-96e75a78137f",
   "metadata": {},
   "outputs": [
    {
     "name": "stdout",
     "output_type": "stream",
     "text": [
      "(0, 0)\n",
      "11025\n",
      "axis0 = 0\n",
      "axis1 = 0 to 11025\n",
      "\n",
      "(0, 1)\n",
      "11020\n",
      "axis0 = 0\n",
      "axis1 = 11020 to 22040\n",
      "\n",
      "(0, 2)\n",
      "11025\n",
      "axis0 = 0\n",
      "axis1 = 11025 to 22050\n",
      "\n",
      "(0, 3)\n",
      "11025\n",
      "axis0 = 0\n",
      "axis1 = 11025 to 22050\n",
      "\n",
      "(1, 0)\n",
      "11025\n",
      "axis0 = 1\n",
      "axis1 = 11025 to 22050\n",
      "\n",
      "(1, 1)\n",
      "11020\n",
      "axis0 = 1\n",
      "axis1 = 11020 to 22040\n",
      "\n",
      "(1, 2)\n",
      "11025\n",
      "axis0 = 1\n",
      "axis1 = 11025 to 22050\n",
      "\n",
      "(1, 3)\n",
      "11025\n",
      "axis0 = 1\n",
      "axis1 = 11025 to 22050\n",
      "\n",
      "(2, 0)\n",
      "11025\n",
      "axis0 = 2\n",
      "axis1 = 11025 to 22050\n",
      "\n",
      "(2, 1)\n",
      "11020\n",
      "axis0 = 2\n",
      "axis1 = 11020 to 22040\n",
      "\n",
      "(2, 2)\n",
      "11025\n",
      "axis0 = 2\n",
      "axis1 = 11025 to 22050\n",
      "\n",
      "(2, 3)\n",
      "11025\n",
      "axis0 = 2\n",
      "axis1 = 11025 to 22050\n",
      "\n"
     ]
    },
    {
     "data": {
      "text/plain": [
       "matrix([[0]])"
      ]
     },
     "execution_count": 7,
     "metadata": {},
     "output_type": "execute_result"
    }
   ],
   "source": [
    "out_matrix = np.zeros((refrain.shape[0], total_duration_in_samples))\n",
    "\n",
    "### note May 20, 5:50pm - I need to cumulative sum max_durations_in_samples. \n",
    "# Like I do with sample_boundaries in the og synthesising module.\n",
    "# That's why I'm running into a problem iterating and assigning tones to out_matrix.\n",
    "\n",
    "for i,r in np.ndenumerate(refrain): \n",
    "    print(i)\n",
    "    print(max_durations_in_samples[0,i[1]])\n",
    "    tone = generate_tone(r, durations_in_samples[i], pad_amount=max_durations_in_samples[0,i[1]])\n",
    "    if i == (0, 0):\n",
    "        print(f'axis0 = {i[0]}\\naxis1 = 0 to {tone.size}\\n')\n",
    "        out_matrix[i[0],0:tone.size] = tone\n",
    "    else:\n",
    "        print(f'axis0 = {i[0]}\\naxis1 = {max_durations_in_samples[0,i[1]]} to {max_durations_in_samples[0,i[1]] + tone.size}\\n')\n",
    "        out_matrix[i[0], max_durations_in_samples[0,i[1]] : max_durations_in_samples[0,i[1]] + tone.size] = tone"
   ]
  },
  {
   "cell_type": "code",
   "execution_count": 8,
   "id": "53f9ccbd-3b51-46b2-b400-969cd5361ef8",
   "metadata": {},
   "outputs": [
    {
     "name": "stdout",
     "output_type": "stream",
     "text": [
      "(0, 0) 220.0\n",
      "(0, 1) 200.2\n",
      "(0, 2) 100.2\n",
      "(0, 3) 200.0\n",
      "(1, 0) 0.0\n",
      "(1, 1) 300.2\n",
      "(1, 2) 150.0\n",
      "(1, 3) 400.0\n",
      "(2, 0) 0.0\n",
      "(2, 1) 600.3\n",
      "(2, 2) 250.0\n",
      "(2, 3) 600.0\n",
      "[[220.  200.2 100.2 200. ]\n",
      " [  0.  300.2 150.  400. ]\n",
      " [  0.  600.3 250.  600. ]]\n",
      "[[11025 11020 11025 11025]]\n"
     ]
    }
   ],
   "source": [
    "for i,r in np.ndenumerate(refrain):\n",
    "    print(i, r)\n",
    "    \n",
    "print(refrain)    \n",
    "\n",
    "print(max_durations_in_samples)"
   ]
  },
  {
   "cell_type": "code",
   "execution_count": 33,
   "id": "fcee5c90-9848-44e8-b948-1b7b2e441261",
   "metadata": {},
   "outputs": [
    {
     "data": {
      "text/plain": [
       "(44095,)"
      ]
     },
     "execution_count": 33,
     "metadata": {},
     "output_type": "execute_result"
    }
   ],
   "source": [
    "summed_audio = np.sum(out_matrix, axis=0)\n",
    "summed_audio.shape"
   ]
  },
  {
   "cell_type": "code",
   "execution_count": 32,
   "id": "727e61b7-e114-4702-9354-123387b00f61",
   "metadata": {},
   "outputs": [],
   "source": [
    "write('recycling/worksheet.wav', sample_rate, summed_audio)"
   ]
  }
 ],
 "metadata": {
  "kernelspec": {
   "display_name": "Python 3 (ipykernel)",
   "language": "python",
   "name": "python3"
  },
  "language_info": {
   "codemirror_mode": {
    "name": "ipython",
    "version": 3
   },
   "file_extension": ".py",
   "mimetype": "text/x-python",
   "name": "python",
   "nbconvert_exporter": "python",
   "pygments_lexer": "ipython3",
   "version": "3.9.7"
  }
 },
 "nbformat": 4,
 "nbformat_minor": 5
}
