{
 "cells": [
  {
   "cell_type": "code",
   "execution_count": 1,
   "id": "e2cbdccd-642f-46ff-a9be-e2cd232daae9",
   "metadata": {},
   "outputs": [],
   "source": [
    "import numpy as np\n",
    "from synthesizing_new import Tone, Synthesis"
   ]
  },
  {
   "cell_type": "code",
   "execution_count": 2,
   "id": "e8587da9-c695-487c-ae59-169fb438529f",
   "metadata": {},
   "outputs": [],
   "source": [
    "refrain =  np.matrix([\n",
    "        [220, 200.2, 100],\n",
    "        [  0, 300.2,   0],\n",
    "        [  0, 600.3,   0],\n",
    "        [  0,     0,   0]\n",
    "    ])\n",
    "durations = [0.5, 0.5, 0.5, 0.5]\n",
    "sample_rate = 22050"
   ]
  },
  {
   "cell_type": "code",
   "execution_count": 3,
   "id": "5ed860d7-7eea-4d13-94df-20b25c0f062e",
   "metadata": {},
   "outputs": [
    {
     "data": {
      "text/plain": [
       "(4, 3)"
      ]
     },
     "execution_count": 3,
     "metadata": {},
     "output_type": "execute_result"
    }
   ],
   "source": [
    "refrain.shape"
   ]
  },
  {
   "cell_type": "code",
   "execution_count": 4,
   "id": "855acfda-a807-4e45-a9ec-9a8f40053934",
   "metadata": {},
   "outputs": [],
   "source": [
    "S = Synthesis(refrain, durations, sample_rate)"
   ]
  },
  {
   "cell_type": "code",
   "execution_count": 5,
   "id": "2746b1c1-7995-49c7-b698-8625624708b6",
   "metadata": {},
   "outputs": [
    {
     "data": {
      "text/plain": [
       "matrix([[11025., 11014., 11025., 11025., 11014., 11025., 11025., 11014.,\n",
       "         11025., 11025., 11014., 11025.],\n",
       "        [    0., 11018.,     0.,     0., 11018.,     0.,     0., 11018.,\n",
       "             0.,     0., 11018.,     0.],\n",
       "        [    0., 11020.,     0.,     0., 11020.,     0.,     0., 11020.,\n",
       "             0.,     0., 11020.,     0.],\n",
       "        [    0.,     0.,     0.,     0.,     0.,     0.,     0.,     0.,\n",
       "             0.,     0.,     0.,     0.]])"
      ]
     },
     "execution_count": 5,
     "metadata": {},
     "output_type": "execute_result"
    }
   ],
   "source": [
    "S.durations_in_samples"
   ]
  },
  {
   "cell_type": "code",
   "execution_count": 7,
   "id": "fcbd7be9-7f8f-453d-940d-55cb3401bd63",
   "metadata": {},
   "outputs": [
    {
     "data": {
      "text/plain": [
       "(4, 12)"
      ]
     },
     "execution_count": 7,
     "metadata": {},
     "output_type": "execute_result"
    }
   ],
   "source": [
    "S.durations_in_samples.shape"
   ]
  },
  {
   "cell_type": "code",
   "execution_count": 9,
   "id": "50155ec1-52f5-4653-a78b-031612e8ed7e",
   "metadata": {},
   "outputs": [
    {
     "data": {
      "text/plain": [
       "(12,)"
      ]
     },
     "execution_count": 9,
     "metadata": {},
     "output_type": "execute_result"
    }
   ],
   "source": [
    "S.durations.shape"
   ]
  },
  {
   "cell_type": "code",
   "execution_count": null,
   "id": "f410ae12-a43e-43f7-b03a-d8ba2f6784dd",
   "metadata": {},
   "outputs": [],
   "source": []
  }
 ],
 "metadata": {
  "kernelspec": {
   "display_name": "Python 3 (ipykernel)",
   "language": "python",
   "name": "python3"
  },
  "language_info": {
   "codemirror_mode": {
    "name": "ipython",
    "version": 3
   },
   "file_extension": ".py",
   "mimetype": "text/x-python",
   "name": "python",
   "nbconvert_exporter": "python",
   "pygments_lexer": "ipython3",
   "version": "3.9.7"
  }
 },
 "nbformat": 4,
 "nbformat_minor": 5
}
