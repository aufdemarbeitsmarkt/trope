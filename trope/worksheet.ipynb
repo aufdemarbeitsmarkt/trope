{
 "cells": [
  {
   "cell_type": "code",
   "execution_count": 1,
   "id": "e2cbdccd-642f-46ff-a9be-e2cd232daae9",
   "metadata": {},
   "outputs": [
    {
     "data": {
      "text/html": [
       "\n",
       "<style>\n",
       "    div#notebook-container    { width: 95%; }\n",
       "    div#menubar-container     { width: 65%; }\n",
       "    div#maintoolbar-container { width: 99%; }\n",
       "</style>\n"
      ],
      "text/plain": [
       "<IPython.core.display.HTML object>"
      ]
     },
     "metadata": {},
     "output_type": "display_data"
    }
   ],
   "source": [
    "import numpy as np\n",
    "from synthesizing_new import Tone, Synthesis\n",
    "\n",
    "from IPython.display import display, HTML\n",
    "\n",
    "display(HTML(data=\"\"\"\n",
    "<style>\n",
    "    div#notebook-container    { width: 95%; }\n",
    "    div#menubar-container     { width: 65%; }\n",
    "    div#maintoolbar-container { width: 99%; }\n",
    "</style>\n",
    "\"\"\"))"
   ]
  },
  {
   "cell_type": "code",
   "execution_count": 2,
   "id": "e8587da9-c695-487c-ae59-169fb438529f",
   "metadata": {},
   "outputs": [],
   "source": [
    "refrain =  np.matrix([\n",
    "        [220, 200.2, 100.2],\n",
    "        [  0, 300.2,   0],\n",
    "        [  0, 600.3,   0],\n",
    "        [  0,     0,   0]\n",
    "    ])\n",
    "durations = [0.5, 0.5, 0.5]\n",
    "sample_rate = 22050"
   ]
  },
  {
   "cell_type": "code",
   "execution_count": 4,
   "id": "855acfda-a807-4e45-a9ec-9a8f40053934",
   "metadata": {},
   "outputs": [],
   "source": [
    "S = Synthesis(refrain, durations, sample_rate)"
   ]
  },
  {
   "cell_type": "code",
   "execution_count": 21,
   "id": "fcbd7be9-7f8f-453d-940d-55cb3401bd63",
   "metadata": {},
   "outputs": [
    {
     "data": {
      "text/plain": [
       "True"
      ]
     },
     "execution_count": 21,
     "metadata": {},
     "output_type": "execute_result"
    }
   ],
   "source": [
    "durations_in_samples = S.durations_in_samples\n",
    "frequencies = S.refrain\n",
    "\n",
    "durations_in_samples.shape == frequencies.shape"
   ]
  },
  {
   "cell_type": "code",
   "execution_count": 28,
   "id": "b53c2869-a6fd-4657-b4d3-1d905ae11ec9",
   "metadata": {},
   "outputs": [],
   "source": [
    "sample_rate = 22050\n",
    "def tone(frequency, duration_in_samples, amplitude=0.5):\n",
    "    each_sample = np.arange(duration_in_samples)\n",
    "    sine = np.sin(2 * np.pi * each_sample * frequency / sample_rate) * amplitude\n",
    "    return sine"
   ]
  },
  {
   "cell_type": "code",
   "execution_count": 32,
   "id": "16f09f0d-00a7-459b-ae02-87b208178cd2",
   "metadata": {},
   "outputs": [],
   "source": [
    "vectorized_tone = np.vectorize(tone, otypes=['object'])"
   ]
  },
  {
   "cell_type": "code",
   "execution_count": 34,
   "id": "f921ed20-cbee-4487-96ee-e7be25ed3bf1",
   "metadata": {},
   "outputs": [],
   "source": [
    "tune = vectorized_tone(frequencies, durations_in_samples)"
   ]
  },
  {
   "cell_type": "code",
   "execution_count": 40,
   "id": "31f1f00a-5c37-483d-9fef-a62c789836ec",
   "metadata": {},
   "outputs": [
    {
     "data": {
      "text/plain": [
       "(11025, 1)"
      ]
     },
     "execution_count": 40,
     "metadata": {},
     "output_type": "execute_result"
    }
   ],
   "source": [
    "tune[0,0].shape"
   ]
  },
  {
   "cell_type": "markdown",
   "id": "312acc91-857b-4a0e-b2d1-1561f93b99a2",
   "metadata": {},
   "source": [
    "☝️ then can I ravel the appropriate axis?\n",
    "https://numpy.org/doc/stable/reference/generated/numpy.ravel.html"
   ]
  },
  {
   "cell_type": "code",
   "execution_count": null,
   "id": "19553820-c72c-4e30-bbbe-fe71a007a358",
   "metadata": {},
   "outputs": [],
   "source": []
  }
 ],
 "metadata": {
  "kernelspec": {
   "display_name": "Python 3 (ipykernel)",
   "language": "python",
   "name": "python3"
  },
  "language_info": {
   "codemirror_mode": {
    "name": "ipython",
    "version": 3
   },
   "file_extension": ".py",
   "mimetype": "text/x-python",
   "name": "python",
   "nbconvert_exporter": "python",
   "pygments_lexer": "ipython3",
   "version": "3.9.7"
  }
 },
 "nbformat": 4,
 "nbformat_minor": 5
}
