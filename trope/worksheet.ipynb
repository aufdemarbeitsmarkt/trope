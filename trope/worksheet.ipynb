{
 "cells": [
  {
   "cell_type": "code",
   "execution_count": 60,
   "id": "e2cbdccd-642f-46ff-a9be-e2cd232daae9",
   "metadata": {},
   "outputs": [],
   "source": [
    "from math import ceil\n",
    "import numpy as np\n",
    "from synthesizing_new import Tone, Synthesis"
   ]
  },
  {
   "cell_type": "code",
   "execution_count": 2,
   "id": "e8587da9-c695-487c-ae59-169fb438529f",
   "metadata": {},
   "outputs": [
    {
     "data": {
      "text/plain": [
       "(3, 4)"
      ]
     },
     "execution_count": 2,
     "metadata": {},
     "output_type": "execute_result"
    }
   ],
   "source": [
    "refrain =  np.matrix([\n",
    "        [220, 200.2, 100.2, 200],\n",
    "        [  0, 300.2,   0, 400],\n",
    "        [  0, 600.3,   0, 600]\n",
    "    ])\n",
    "durations = [0.25, 0.5, 0.5, 0.5]\n",
    "sample_rate = 22050\n",
    "refrain.shape"
   ]
  },
  {
   "cell_type": "code",
   "execution_count": 3,
   "id": "855acfda-a807-4e45-a9ec-9a8f40053934",
   "metadata": {},
   "outputs": [],
   "source": [
    "S = Synthesis(refrain, durations, sample_rate)"
   ]
  },
  {
   "cell_type": "code",
   "execution_count": 33,
   "id": "fcbd7be9-7f8f-453d-940d-55cb3401bd63",
   "metadata": {},
   "outputs": [],
   "source": [
    "durations_in_samples = S.durations_in_samples\n",
    "max_durations_in_samples = np.max(durations_in_samples, axis=0)\n",
    "frequencies = S.refrain\n",
    "total_duration_in_samples = S.total_duration_in_samples"
   ]
  },
  {
   "cell_type": "code",
   "execution_count": 48,
   "id": "632eec64-9b7e-4a57-a674-e6e99f40ce96",
   "metadata": {},
   "outputs": [
    {
     "name": "stdout",
     "output_type": "stream",
     "text": [
      "max_durations_in_samples=matrix([[ 5513., 11020., 11003., 11025.]])\n"
     ]
    },
    {
     "data": {
      "text/plain": [
       "11020.0"
      ]
     },
     "execution_count": 48,
     "metadata": {},
     "output_type": "execute_result"
    }
   ],
   "source": [
    "print(f'{max_durations_in_samples=}')\n",
    "max_durations_in_samples[0,1]"
   ]
  },
  {
   "cell_type": "code",
   "execution_count": 89,
   "id": "b53c2869-a6fd-4657-b4d3-1d905ae11ec9",
   "metadata": {},
   "outputs": [],
   "source": [
    "def generate_tone(frequency, duration_in_samples, amplitude=0.5, pad_amount=0):\n",
    "    each_sample = np.arange(duration_in_samples)\n",
    "    \n",
    "    sine = np.sin(2 * np.pi * each_sample * frequency / sample_rate) * amplitude\n",
    "   \n",
    "    if pad_amount - duration_in_samples > 0:\n",
    "        pad_for_each_side = (pad_amount - duration_in_samples) / 2\n",
    "        beginning = int(pad_for_each_side)\n",
    "        end = ceil(pad_for_each_side)\n",
    "        return np.pad(sine, (beginning, end)) # note: this will also work for rests\n",
    "    \n",
    "    return sine"
   ]
  },
  {
   "cell_type": "code",
   "execution_count": 95,
   "id": "3901f032-5362-410f-875a-96e75a78137f",
   "metadata": {},
   "outputs": [
    {
     "name": "stdout",
     "output_type": "stream",
     "text": [
      "durations_in_samples[i]=5513.0\n",
      "max_durations_in_samples[0,i[1]]=5513.0\n",
      "tone.size=5513, True\n",
      "\n",
      "durations_in_samples[i]=11014.0\n",
      "max_durations_in_samples[0,i[1]]=11020.0\n",
      "tone.size=11020, True\n",
      "\n",
      "durations_in_samples[i]=11003.0\n",
      "max_durations_in_samples[0,i[1]]=11003.0\n",
      "tone.size=11003, True\n",
      "\n",
      "durations_in_samples[i]=11025.0\n",
      "max_durations_in_samples[0,i[1]]=11025.0\n",
      "tone.size=11025, True\n",
      "\n",
      "durations_in_samples[i]=0.0\n",
      "max_durations_in_samples[0,i[1]]=5513.0\n",
      "tone.size=5513, True\n",
      "\n",
      "durations_in_samples[i]=11018.0\n",
      "max_durations_in_samples[0,i[1]]=11020.0\n",
      "tone.size=11020, True\n",
      "\n",
      "durations_in_samples[i]=0.0\n",
      "max_durations_in_samples[0,i[1]]=11003.0\n",
      "tone.size=11003, True\n",
      "\n",
      "durations_in_samples[i]=11025.0\n",
      "max_durations_in_samples[0,i[1]]=11025.0\n",
      "tone.size=11025, True\n",
      "\n",
      "durations_in_samples[i]=0.0\n",
      "max_durations_in_samples[0,i[1]]=5513.0\n",
      "tone.size=5513, True\n",
      "\n",
      "durations_in_samples[i]=11020.0\n",
      "max_durations_in_samples[0,i[1]]=11020.0\n",
      "tone.size=11020, True\n",
      "\n",
      "durations_in_samples[i]=0.0\n",
      "max_durations_in_samples[0,i[1]]=11003.0\n",
      "tone.size=11003, True\n",
      "\n",
      "durations_in_samples[i]=11025.0\n",
      "max_durations_in_samples[0,i[1]]=11025.0\n",
      "tone.size=11025, True\n",
      "\n"
     ]
    }
   ],
   "source": [
    "out_matrix = np.zeros((3, total_duration_in_samples))\n",
    "\n",
    "for i,r in np.ndenumerate(refrain): \n",
    "    print(f'{durations_in_samples[i]=}\\n{max_durations_in_samples[0,i[1]]=}')\n",
    "    tone = generate_tone(r, durations_in_samples[i], pad_amount=max_durations_in_samples[0,i[1]])\n",
    "    print(f'{tone.size=}, {tone.size==max_durations_in_samples[0,i[1]]}\\n')\n",
    "    "
   ]
  },
  {
   "cell_type": "code",
   "execution_count": 81,
   "id": "1d4966a9-2509-4ef1-9795-221fe4fa3d80",
   "metadata": {},
   "outputs": [
    {
     "name": "stdout",
     "output_type": "stream",
     "text": [
      "5512 / 5512\n"
     ]
    }
   ],
   "source": [
    "pad_amount = 11024\n",
    "duration_in_samples = 0\n",
    "\n",
    "sine = np.ones(duration_in_samples)\n",
    "\n",
    "if pad_amount - duration_in_samples > 0:\n",
    "    pad_for_each_side = (pad_amount - duration_in_samples) / 2\n",
    "    beginning = int(pad_for_each_side)\n",
    "    end = ceil(pad_for_each_side)\n",
    "    print(beginning, '/', end)\n",
    "    sine = np.pad(sine, (beginning, end))\n",
    "    "
   ]
  },
  {
   "cell_type": "code",
   "execution_count": 82,
   "id": "fcee5c90-9848-44e8-b948-1b7b2e441261",
   "metadata": {},
   "outputs": [
    {
     "data": {
      "text/plain": [
       "11024"
      ]
     },
     "execution_count": 82,
     "metadata": {},
     "output_type": "execute_result"
    }
   ],
   "source": [
    "sine.size"
   ]
  },
  {
   "cell_type": "code",
   "execution_count": null,
   "id": "727e61b7-e114-4702-9354-123387b00f61",
   "metadata": {},
   "outputs": [],
   "source": []
  }
 ],
 "metadata": {
  "kernelspec": {
   "display_name": "Python 3 (ipykernel)",
   "language": "python",
   "name": "python3"
  },
  "language_info": {
   "codemirror_mode": {
    "name": "ipython",
    "version": 3
   },
   "file_extension": ".py",
   "mimetype": "text/x-python",
   "name": "python",
   "nbconvert_exporter": "python",
   "pygments_lexer": "ipython3",
   "version": "3.9.7"
  }
 },
 "nbformat": 4,
 "nbformat_minor": 5
}
