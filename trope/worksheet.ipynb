{
 "cells": [
  {
   "cell_type": "code",
   "execution_count": 1,
   "id": "e2cbdccd-642f-46ff-a9be-e2cd232daae9",
   "metadata": {},
   "outputs": [
    {
     "data": {
      "text/html": [
       "\n",
       "<style>\n",
       "    div#notebook-container    { width: 95%; }\n",
       "    div#menubar-container     { width: 65%; }\n",
       "    div#maintoolbar-container { width: 99%; }\n",
       "</style>\n"
      ],
      "text/plain": [
       "<IPython.core.display.HTML object>"
      ]
     },
     "metadata": {},
     "output_type": "display_data"
    }
   ],
   "source": [
    "import numpy as np\n",
    "from synthesizing_new import Tone, Synthesis\n",
    "\n",
    "from IPython.display import display, HTML\n",
    "\n",
    "display(HTML(data=\"\"\"\n",
    "<style>\n",
    "    div#notebook-container    { width: 95%; }\n",
    "    div#menubar-container     { width: 65%; }\n",
    "    div#maintoolbar-container { width: 99%; }\n",
    "</style>\n",
    "\"\"\"))"
   ]
  },
  {
   "cell_type": "code",
   "execution_count": 20,
   "id": "e8587da9-c695-487c-ae59-169fb438529f",
   "metadata": {},
   "outputs": [],
   "source": [
    "refrain =  np.matrix([\n",
    "        [220, 200.2, 100.2],\n",
    "        [  0, 300.2,   0],\n",
    "        [  0, 600.3,   0],\n",
    "        [  0,     0,   0]\n",
    "    ])\n",
    "durations = [0.5, 0.5, 0.5]\n",
    "sample_rate = 22050"
   ]
  },
  {
   "cell_type": "code",
   "execution_count": 21,
   "id": "5ed860d7-7eea-4d13-94df-20b25c0f062e",
   "metadata": {},
   "outputs": [
    {
     "data": {
      "text/plain": [
       "(4, 3)"
      ]
     },
     "execution_count": 21,
     "metadata": {},
     "output_type": "execute_result"
    }
   ],
   "source": [
    "refrain.shape"
   ]
  },
  {
   "cell_type": "code",
   "execution_count": 22,
   "id": "855acfda-a807-4e45-a9ec-9a8f40053934",
   "metadata": {},
   "outputs": [],
   "source": [
    "S = Synthesis(refrain, durations, sample_rate)"
   ]
  },
  {
   "cell_type": "code",
   "execution_count": 23,
   "id": "2746b1c1-7995-49c7-b698-8625624708b6",
   "metadata": {
    "scrolled": true,
    "tags": []
   },
   "outputs": [
    {
     "data": {
      "text/plain": [
       "matrix([[11025., 11014., 11003.],\n",
       "        [    0., 11018.,     0.],\n",
       "        [    0., 11020.,     0.],\n",
       "        [    0.,     0.,     0.]])"
      ]
     },
     "execution_count": 23,
     "metadata": {},
     "output_type": "execute_result"
    }
   ],
   "source": [
    "S.durations_in_samples"
   ]
  },
  {
   "cell_type": "code",
   "execution_count": 24,
   "id": "fcbd7be9-7f8f-453d-940d-55cb3401bd63",
   "metadata": {},
   "outputs": [
    {
     "data": {
      "text/plain": [
       "(4, 3)"
      ]
     },
     "execution_count": 24,
     "metadata": {},
     "output_type": "execute_result"
    }
   ],
   "source": [
    "S.durations_in_samples.shape"
   ]
  },
  {
   "cell_type": "code",
   "execution_count": 25,
   "id": "50155ec1-52f5-4653-a78b-031612e8ed7e",
   "metadata": {},
   "outputs": [
    {
     "data": {
      "text/plain": [
       "(3,)"
      ]
     },
     "execution_count": 25,
     "metadata": {},
     "output_type": "execute_result"
    }
   ],
   "source": [
    "S.durations.shape"
   ]
  },
  {
   "cell_type": "code",
   "execution_count": 27,
   "id": "f410ae12-a43e-43f7-b03a-d8ba2f6784dd",
   "metadata": {},
   "outputs": [
    {
     "data": {
      "text/plain": [
       "33048.0"
      ]
     },
     "execution_count": 27,
     "metadata": {},
     "output_type": "execute_result"
    }
   ],
   "source": [
    "axis1 = np.sum(np.max(S.durations_in_samples, axis=0))"
   ]
  },
  {
   "cell_type": "code",
   "execution_count": null,
   "id": "b2b56dae-dd9e-411f-a3b9-0186d5e4d925",
   "metadata": {},
   "outputs": [],
   "source": [
    "initialized_matrix = np.empty()"
   ]
  }
 ],
 "metadata": {
  "kernelspec": {
   "display_name": "Python 3 (ipykernel)",
   "language": "python",
   "name": "python3"
  },
  "language_info": {
   "codemirror_mode": {
    "name": "ipython",
    "version": 3
   },
   "file_extension": ".py",
   "mimetype": "text/x-python",
   "name": "python",
   "nbconvert_exporter": "python",
   "pygments_lexer": "ipython3",
   "version": "3.9.7"
  }
 },
 "nbformat": 4,
 "nbformat_minor": 5
}
