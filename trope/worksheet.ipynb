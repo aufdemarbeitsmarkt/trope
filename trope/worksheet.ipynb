{
 "cells": [
  {
   "cell_type": "code",
   "execution_count": 1,
   "id": "e2cbdccd-642f-46ff-a9be-e2cd232daae9",
   "metadata": {},
   "outputs": [],
   "source": [
    "import matplotlib.pyplot as plt\n",
    "import numpy as np\n",
    "from scipy.io.wavfile import write\n",
     
    "from synthesizing import Synthesis"
   ]
  },
  {
   "cell_type": "code",
   "execution_count": 2,
   "id": "e8587da9-c695-487c-ae59-169fb438529f",
   "metadata": {},
   "outputs": [],
   "source": [
    "refrain =  np.matrix([\n",
    "        [220, 200, 100, 200, 250],\n",
    "        [  0, 300, 150, 400, 500],\n",
    "        [  0, 600, 250, 600, 600]\n",
    "    ])\n",
    "\n",
    "durations = [0.5, 0.5, 0.5, 0.5]\n",
    "sample_rate = 22050"
   ]
  },
  {
   "cell_type": "code",
   "execution_count": 3,
   "id": "855acfda-a807-4e45-a9ec-9a8f40053934",
   "metadata": {},
   "outputs": [],
   "source": [
    "S = Synthesis(refrain, durations, sample_rate)"
   ]
  },
  {
   "cell_type": "code",
   "execution_count": 16,
   "id": "727e61b7-e114-4702-9354-123387b00f61",
   "metadata": {},
   "outputs": [],
   "source": [
    "write('recycling/worksheet.wav', sample_rate, audio)"
   ]

  },
  {
   "cell_type": "code",
   "execution_count": null,
   "id": "645bda5b-6f23-45b0-9aef-9136e27f660d",
   "metadata": {},
   "outputs": [],
   "source": []
  }
 ],
 "metadata": {
  "kernelspec": {
   "display_name": "Python 3 (ipykernel)",
   "language": "python",
   "name": "python3"
  },
  "language_info": {
   "codemirror_mode": {
    "name": "ipython",
    "version": 3
   },
   "file_extension": ".py",
   "mimetype": "text/x-python",
   "name": "python",
   "nbconvert_exporter": "python",
   "pygments_lexer": "ipython3",
   "version": "3.9.7"
  }
 },
 "nbformat": 4,
 "nbformat_minor": 5
}
