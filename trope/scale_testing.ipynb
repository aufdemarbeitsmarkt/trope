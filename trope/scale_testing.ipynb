{
 "cells": [
  {
   "cell_type": "code",
   "execution_count": 1,
   "id": "a4cd5a9a-3772-49c6-81e9-5f7d77a4e8c9",
   "metadata": {},
   "outputs": [],
   "source": [
    "from scales_and_tunings import Scale"
   ]
  },
  {
   "cell_type": "code",
   "execution_count": 2,
   "id": "54d30b80-0700-4bd4-9214-28eb32e54537",
   "metadata": {},
   "outputs": [],
   "source": [
    "S = Scale('D', 'locrian')"
   ]
  },
  {
   "cell_type": "code",
   "execution_count": 3,
   "id": "528a9d50-a312-49de-97bf-af9730b29cc6",
   "metadata": {},
   "outputs": [
    {
     "data": {
      "text/plain": [
       "['D', 'D#', 'F', 'G', 'G#', 'A#', 'C']"
      ]
     },
     "execution_count": 3,
     "metadata": {},
     "output_type": "execute_result"
    }
   ],
   "source": [
    "S.notes"
   ]
  },
  {
   "cell_type": "code",
   "execution_count": 5,
   "id": "5f726744-d79e-4c7e-8a6c-df5dbbdb51f1",
   "metadata": {},
   "outputs": [
    {
     "data": {
      "text/plain": [
       "array([   32.70319566,    36.70809599,    38.89087297,    43.65352893,\n",
       "          48.9994295 ,    51.9130872 ,    58.27047019,    65.40639133,\n",
       "          73.41619198,    77.78174593,    87.30705786,    97.998859  ,\n",
       "         103.82617439,   116.54094038,   130.81278265,   146.83238396,\n",
       "         155.56349186,   174.61411572,   195.99771799,   207.65234879,\n",
       "         233.08188076,   261.6255653 ,   293.66476792,   311.12698372,\n",
       "         349.22823143,   391.99543598,   415.30469758,   466.16376152,\n",
       "         523.2511306 ,   587.32953583,   622.25396744,   698.45646287,\n",
       "         783.99087196,   830.60939516,   932.32752304,  1046.5022612 ,\n",
       "        1174.65907167,  1244.50793489,  1396.91292573,  1567.98174393,\n",
       "        1661.21879032,  1864.65504607,  2093.0045224 ,  2349.31814334,\n",
       "        2489.01586978,  2793.82585146,  3135.96348785,  3322.43758064,\n",
       "        3729.31009214,  4186.00904481,  4698.63628668,  4978.03173955,\n",
       "        5587.65170293,  6271.92697571,  6644.87516128,  7458.62018429,\n",
       "        8372.01808962,  9397.27257336,  9956.06347911, 11175.30340586,\n",
       "       12543.85395142, 13289.75032256, 14917.24036858])"
      ]
     },
     "execution_count": 5,
     "metadata": {},
     "output_type": "execute_result"
    }
   ],
   "source": [
    "list_of_hz = S.hz\n",
    "list_of_hz"
   ]
  },
  {
   "cell_type": "code",
   "execution_count": null,
   "id": "6465e888-816c-455e-a758-50784ef357a6",
   "metadata": {},
   "outputs": [],
   "source": []
  },
  {
   "cell_type": "code",
   "execution_count": null,
   "id": "fa4c9e37-6cdf-419b-9f31-86fd7bc6a2bc",
   "metadata": {},
   "outputs": [],
   "source": []
  }
 ],
 "metadata": {
  "kernelspec": {
   "display_name": "Python 3 (ipykernel)",
   "language": "python",
   "name": "python3"
  },
  "language_info": {
   "codemirror_mode": {
    "name": "ipython",
    "version": 3
   },
   "file_extension": ".py",
   "mimetype": "text/x-python",
   "name": "python",
   "nbconvert_exporter": "python",
   "pygments_lexer": "ipython3",
   "version": "3.9.7"
  }
 },
 "nbformat": 4,
 "nbformat_minor": 5
}
